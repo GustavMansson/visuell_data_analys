{
 "cells": [
  {
   "cell_type": "code",
   "execution_count": 8,
   "metadata": {},
   "outputs": [],
   "source": [
    "import numpy as np\n",
    "import matplotlib.pyplot as plt\n",
    "import seaborn as sns\n",
    "from ipywidgets import interact, fixed"
   ]
  },
  {
   "cell_type": "markdown",
   "metadata": {},
   "source": [
    "Example from https://towardsdatascience.com/k-nearest-neighbors-and-the-curse-of-dimensionality-7d64634015d9"
   ]
  },
  {
   "cell_type": "code",
   "execution_count": 2,
   "metadata": {},
   "outputs": [],
   "source": [
    "n_samples = 30\n",
    "k = 3\n",
    "X = np.random.uniform(0, 1, size=(n_samples,3))\n",
    "y = np.array(X.sum(axis=1) >= 1.5).astype(int)\n",
    "\n",
    "x_test = 0.5*np.ones(3)"
   ]
  },
  {
   "cell_type": "code",
   "execution_count": 3,
   "metadata": {},
   "outputs": [],
   "source": [
    "# Get nearest neighbors\n",
    "distances = np.array([np.linalg.norm([x_test[0]] - x_train, ord=2) for x_train in X[:, 0]])\n",
    "nn = np.argsort(distances)[:k]\n",
    "mdist = np.max(distances[nn])"
   ]
  },
  {
   "cell_type": "code",
   "execution_count": 6,
   "metadata": {},
   "outputs": [
    {
     "data": {
      "image/png": "[encoded data removed]",
      "text/plain": [
       "<Figure size 576x72 with 1 Axes>"
      ]
     },
     "metadata": {
      "needs_background": "light"
     },
     "output_type": "display_data"
    }
   ],
   "source": [
    "# Figure formatting stuff\n",
    "plt.figure(figsize=(8,1))\n",
    "plt.xlim(0,1);\n",
    "plt.ylim(-0.01, 0.01);\n",
    "plt.xlabel(\"x1\")\n",
    "# Plot training data\n",
    "sns.scatterplot(x=X[:,0], y=0, hue=y, s=20, edgecolor=None, legend=False);\n",
    "# Plot region that encloses nearest neighbors\n",
    "plot_colors = np.array(sns.color_palette().as_hex())\n",
    "plt.plot([x_test-mdist, x_test+mdist], [0,0], color=plot_colors[2], lw=2, alpha=0.2);\n",
    "# Plot nearest neighbors\n",
    "sns.scatterplot(x=X[nn,0], y=0, facecolors='none', edgecolor='black', s=150);\n",
    "# Plot test point\n",
    "plt.scatter(x=x_test[0], y=0, facecolor=plot_colors[2], s=50);"
   ]
  },
  {
   "cell_type": "code",
   "execution_count": 7,
   "metadata": {},
   "outputs": [
    {
     "data": {
      "image/png": "[encoded data removed]",
      "text/plain": [
       "<Figure size 360x360 with 1 Axes>"
      ]
     },
     "metadata": {
      "needs_background": "light"
     },
     "output_type": "display_data"
    }
   ],
   "source": [
    "# Get nearest neighbors\n",
    "distances = np.array([np.linalg.norm(x_test[0:2] - x_train, ord=2) for x_train in X[:, 0:2]])\n",
    "nn = np.argsort(distances)[:k]\n",
    "mdist = np.max(distances[nn])\n",
    "\n",
    "# Figure formatting stuff\n",
    "fig = plt.figure(figsize=(5,5))\n",
    "ax = fig.add_axes([0,0,1,1])\n",
    "plt.xlim(0,1);\n",
    "plt.ylim(0,1);\n",
    "plt.xlabel(\"x1\")\n",
    "plt.ylabel(\"x2\")\n",
    "\n",
    "# Plot training data\n",
    "sns.scatterplot(x=X[:,0], y=X[:,1], hue=plot_colors[y], s=20, edgecolor=None, legend=False, ax=ax);\n",
    "# Plot region that encloses nearest neighbors\n",
    "circle = plt.Circle(x_test,mdist,\n",
    "                          fill=True, color=plot_colors[2], alpha=0.2, zorder=1)\n",
    "ax.add_patch(circle)\n",
    "# Plot nearest neighbors\n",
    "sns.scatterplot(x=X[nn,0], y=X[nn,1], facecolors='none', s=100, edgecolor='black', legend=False, ax=ax);\n",
    "# Plot test point\n",
    "plt.scatter(x=x_test[0], y=x_test[1], facecolor=plot_colors[2], s=50);"
   ]
  },
  {
   "cell_type": "code",
   "execution_count": 9,
   "metadata": {},
   "outputs": [
    {
     "data": {
      "application/vnd.jupyter.widget-view+json": {
       "model_id": "129ded15e52448239e0ff283c76a1be8",
       "version_major": 2,
       "version_minor": 0
      },
      "text/plain": [
       "interactive(children=(Dropdown(description='elev', index=11, options=(-90, -80, -70, -60, -50, -40, -30, -20, …"
      ]
     },
     "metadata": {},
     "output_type": "display_data"
    }
   ],
   "source": [
    "def plot_3D(elev=20, azim=-20, X=X, y=y, x_test=x_test):\n",
    "    # Figure formatting stuff\n",
    "    plt.figure(figsize=(10,10))\n",
    "    ax = plt.subplot(projection='3d')\n",
    "    ax.view_init(elev=elev, azim=azim)\n",
    "    ax.set_xlabel('x1')\n",
    "    ax.set_ylabel('x2')\n",
    "    ax.set_zlabel('x3')\n",
    "    ax.set_ylim(0, 1)\n",
    "    ax.set_xlim(0, 1)\n",
    "    ax.set_zlim(0, 1)\n",
    "\n",
    "    # Get nearest neighbors\n",
    "    distances = np.array([np.linalg.norm(x_test - x_train, ord=2) for x_train in X])\n",
    "    nn = np.argsort(distances)[:k]\n",
    "    mdist = np.max(distances[nn])\n",
    "\n",
    "    # Plot training data\n",
    "    ax.scatter3D(X[:,0], X[:,1], X[:,2], s=50, c=plot_colors[y])\n",
    "\n",
    "    # Plot region that encloses nearest neighbors\n",
    "    u, v = np.mgrid[0:2*np.pi:16*1j, 0:np.pi:8*1j]\n",
    "    sphere_x = x_test[0] + mdist * np.cos(u) * np.sin(v)\n",
    "    sphere_y = x_test[1] + mdist * np.sin(u) * np.sin(v)\n",
    "    sphere_z = x_test[2] + mdist * np.cos(v)\n",
    "    ax.plot_wireframe(sphere_x, sphere_y, sphere_z, alpha=0.2, color=plot_colors[2])\n",
    "\n",
    "    # Plot nearest neighbors\n",
    "    ax.scatter3D(X[nn,0], X[nn,1], X[nn,2], s=150, c=plot_colors[y[nn]], edgecolor='black')\n",
    "\n",
    "    # Plot test point\n",
    "    ax.scatter3D(x_test[0], x_test[1], x_test[2], s=200, color=plot_colors[2])\n",
    "\n",
    "interact(plot_3D, elev=np.arange(-90,90,10), azim=np.arange(-90,90,10),\n",
    "         X=fixed(X), y=fixed(y), x_test=fixed(x_test));"
   ]
  },
  {
   "cell_type": "markdown",
   "metadata": {},
   "source": [
    "\n",
    "Avstånd från [0,0,0..0] till [1,1,1,..1] = sqrt(1+1+1...+1) -> \n",
    "tillväxthastighet svarar mot roten ur summan.\n",
    "Detta gör att mer information i classifiers som använder distansmått (t.ex. kNN) \n",
    "inte nödvändigtvis gynnas av att inkludera all information!"
   ]
  },
  {
   "cell_type": "code",
   "execution_count": 2,
   "metadata": {},
   "outputs": [
    {
     "name": "stdout",
     "output_type": "stream",
     "text": [
      "[0.0, 1.0, 1.4142135623730951, 1.7320508075688772, 2.0, 2.23606797749979, 2.449489742783178, 2.6457513110645907, 2.8284271247461903, 3.0]\n"
     ]
    }
   ],
   "source": [
    "dim = 10000\n",
    "nr_of_dimensions = np.arange(dim) # lista med värden 0 till dim-1\n",
    "\n",
    "#Gör en lista med värden där varje värde är avståndet till nollpunkten för [1, 1, 1.. 1]-vektorer\n",
    "norm_list = [np.linalg.norm(np.ones(vector)) for vector in range(dim)]\n",
    "print(norm_list[:10])"
   ]
  },
  {
   "cell_type": "code",
   "execution_count": 3,
   "metadata": {},
   "outputs": [
    {
     "data": {
      "text/plain": [
       "Text(0.5, 1.0, 'Distance to origin for n-dimensional [1,1,..1] vectors')"
      ]
     },
     "execution_count": 3,
     "metadata": {},
     "output_type": "execute_result"
    },
    {
     "data": {
      "image/png": "[encoded data removed]",
      "text/plain": [
       "<Figure size 432x288 with 1 Axes>"
      ]
     },
     "metadata": {
      "needs_background": "light"
     },
     "output_type": "display_data"
    }
   ],
   "source": [
    "plt.plot(nr_of_dimensions, norm_list)\n",
    "plt.ylabel(\"Number of dimensions\")\n",
    "plt.xlabel(\"Distance from origin\")\n",
    "plt.title(\"Distance to origin for n-dimensional [1,1,..1] vectors\")"
   ]
  },
  {
   "cell_type": "code",
   "execution_count": null,
   "metadata": {},
   "outputs": [],
   "source": []
  }
 ],
 "metadata": {
  "interpreter": {
   "hash": "6114b2ecdb3dbf269466423d7f8a4c7ea08a980c6108a678dde6d7f806f98fb1"
  },
  "kernelspec": {
   "display_name": "Python 3.9.7 ('ipynb_env')",
   "language": "python",
   "name": "python3"
  },
  "language_info": {
   "codemirror_mode": {
    "name": "ipython",
    "version": 3
   },
   "file_extension": ".py",
   "mimetype": "text/x-python",
   "name": "python",
   "nbconvert_exporter": "python",
   "pygments_lexer": "ipython3",
   "version": "3.9.7"
  },
  "orig_nbformat": 4
 },
 "nbformat": 4,
 "nbformat_minor": 2
}
